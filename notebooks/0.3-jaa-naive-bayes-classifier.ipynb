{
 "cells": [
  {
   "cell_type": "code",
   "execution_count": 1,
   "metadata": {
    "collapsed": true
   },
   "outputs": [],
   "source": [
    "import sys\n",
    "sys.path.insert(0, '../src/')\n",
    "from forum_corpus_reader import ForumCorpusReader\n",
    "from forum_profile import ForumProfile\n",
    "from nltk.classify import NaiveBayesClassifier"
   ]
  },
  {
   "cell_type": "code",
   "execution_count": 3,
   "metadata": {
    "collapsed": false
   },
   "outputs": [],
   "source": [
    "from nltk.corpus.reader.xmldocs import XMLCorpusView\n",
    "from nltk.corpus.reader.xmldocs import XMLCorpusReader\n",
    "from forum_corpus_reader import ForumCorpusReader\n",
    "from scipy.sparse import csr_matrix\n",
    "from nltk.classify import PositiveNaiveBayesClassifier\n",
    "# from nltk.classify import NaiveBayes\n",
    "# nltk.classify.naivebayes.demo()\n",
    "fam_corpus = ForumCorpusReader('../data/', 'familjeliv-sex25.xml')\n",
    "fam_profile = ForumProfile(fam_corpus, 'familjelivet')\n",
    "fam_data = fam_profile.generate_features(do_preprocess=True, use_lemmas=False)\n",
    "\n",
    "flash_corpus = ForumCorpusReader('../data/', 'flashback-sex45.xml')\n",
    "flash_profile = ForumProfile(flash_corpus, 'flashback')\n",
    "flash_data = flash_profile.generate_features(do_preprocess=True, use_lemmas=False)\n",
    "\n",
    "sentences = [['Ofta', 'hoppar', 'jag', 'bara', 'iväg', 'till', 'toan', 'och', 'torkar', 'mig', 'och', 'kissar', '.'], ['mår', 'verkligen', 'kroppen', 'bra', 'av', 'att', 'få', 'kiss', 'i', 'fel', 'hål', 'så', 'att', 'säjja', '...', '?', '?']]\n",
    "sents = fam_corpus.tagged_sentences()[25:28]"
   ]
  },
  {
   "cell_type": "code",
   "execution_count": 4,
   "metadata": {
    "collapsed": false
   },
   "outputs": [],
   "source": [
    "import random\n",
    "all_data = flash_data + fam_data\n",
    "random.shuffle(all_data)\n",
    "train_size = int(0.7*len(all_data))\n",
    "\n",
    "train_set = all_data[:train_size]\n",
    "test_set = all_data[train_size:]"
   ]
  },
  {
   "cell_type": "code",
   "execution_count": 5,
   "metadata": {
    "collapsed": true
   },
   "outputs": [],
   "source": [
    "classifier = NaiveBayesClassifier.train(train_set)"
   ]
  },
  {
   "cell_type": "code",
   "execution_count": 6,
   "metadata": {
    "collapsed": false
   },
   "outputs": [
    {
     "name": "stdout",
     "output_type": "stream",
     "text": [
      "0.7295280844352784\n",
      "Most Informative Features\n",
      "                    edit = 1              flashb : familj =    118.6 : 1.0\n",
      "           sexhjälpmedel = 1              flashb : familj =     79.2 : 1.0\n",
      "                      fl = 1              familj : flashb =     65.3 : 1.0\n",
      "                  anonym = 1              familj : flashb =     63.8 : 1.0\n",
      "                 otrohet = 1              familj : flashb =     57.3 : 1.0\n",
      "                 kamagra = 1              flashb : familj =     54.0 : 1.0\n",
      "                lösfitta = 1              flashb : familj =     52.1 : 1.0\n",
      "                  cialis = 1              flashb : familj =     51.8 : 1.0\n",
      "             potensmedel = 1              flashb : familj =     45.1 : 1.0\n",
      "                olivolja = 1              flashb : familj =     41.6 : 1.0\n",
      "None\n"
     ]
    }
   ],
   "source": [
    "import nltk\n",
    "print(nltk.classify.accuracy(classifier, test_set))\n",
    "print(classifier.show_most_informative_features(10))"
   ]
  },
  {
   "cell_type": "markdown",
   "metadata": {},
   "source": [
    "#### Decision Tree's\n",
    "These seem to take a very long time to train. Not sure how effective they are. Didnt have the patience to wait"
   ]
  },
  {
   "cell_type": "code",
   "execution_count": null,
   "metadata": {
    "collapsed": false
   },
   "outputs": [],
   "source": [
    "from nltk import DecisionTreeClassifier\n",
    "dectree_classifier = DecisionTreeClassifier.train(train_set)"
   ]
  },
  {
   "cell_type": "code",
   "execution_count": null,
   "metadata": {
    "collapsed": false
   },
   "outputs": [],
   "source": [
    "nltk.classify.accuracy(dectree_classifier, test_set)"
   ]
  }
 ],
 "metadata": {
  "anaconda-cloud": {},
  "kernelspec": {
   "display_name": "Python [conda root]",
   "language": "python",
   "name": "conda-root-py"
  },
  "language_info": {
   "codemirror_mode": {
    "name": "ipython",
    "version": 3
   },
   "file_extension": ".py",
   "mimetype": "text/x-python",
   "name": "python",
   "nbconvert_exporter": "python",
   "pygments_lexer": "ipython3",
   "version": "3.5.2"
  }
 },
 "nbformat": 4,
 "nbformat_minor": 1
}
