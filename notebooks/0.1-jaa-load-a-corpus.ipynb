{
 "cells": [
  {
   "cell_type": "code",
   "execution_count": 39,
   "metadata": {
    "collapsed": false
   },
   "outputs": [
    {
     "name": "stdout",
     "output_type": "stream",
     "text": [
      "showing info https://raw.githubusercontent.com/nltk/nltk_data/gh-pages/index.xml\n"
     ]
    },
    {
     "data": {
      "text/plain": [
       "True"
      ]
     },
     "execution_count": 39,
     "metadata": {},
     "output_type": "execute_result"
    }
   ],
   "source": [
    "import nltk\n",
    "nltk.download()"
   ]
  },
  {
   "cell_type": "markdown",
   "metadata": {},
   "source": [
    "## Try to Load a Corpus with NLTK\n",
    "\n",
    "NLTK has a CorpusReader for XML documents, but it seems fairly limited as it only stores the words.\n",
    "It is possible to retrieve the tags of interest like 'sentences' via a CorpusView. Getting the sentences with CorpusView returns an ElementTree list, which is documented in the Python docs."
   ]
  },
  {
   "cell_type": "code",
   "execution_count": 138,
   "metadata": {
    "collapsed": false
   },
   "outputs": [],
   "source": [
    "from nltk.corpus.reader.xmldocs import XMLCorpusView\n",
    "from nltk.corpus.reader.xmldocs import XMLCorpusReader\n",
    "\n",
    "class CorpusReader(XMLCorpusReader):\n",
    "    def __init__(self, root, fileid):\n",
    "        self.path = root+fileid\n",
    "        XMLCorpusReader.__init__(self, root, fileid)\n",
    "        \n",
    "    def sentences(self, raw=False):\n",
    "        '''Returns a list of ElementTree objects (see Python docs)\n",
    "        If raw is true then return a list of sentences where each sentence is a list of words\n",
    "        '''\n",
    "        if raw:\n",
    "            sents = XMLCorpusView(self.path, '.*/sentence')\n",
    "            sent_list = list()\n",
    "            for sentence in sents:\n",
    "                word_list = [word.text for word in sentence]\n",
    "                sent_list.append(word_list)\n",
    "            return sent_list\n",
    "        else:\n",
    "            return XMLCorpusView(self.path, '.*/sentence')\n",
    "\n",
    "    def tagged_words(self, lemmatize=False):\n",
    "        words = XMLCorpusView(self.path, '.*/w')\n",
    "        if lemmatize:\n",
    "            word_tags = [ (word.text, \n",
    "                           word.attrib['pos'], \n",
    "                           word.attrib['lemma'].replace(\"|\", \"\"))\n",
    "                         for word in words ]            \n",
    "        else:\n",
    "            word_tags = [ (word.text, word.attrib['pos']) for word in words ]\n",
    "        return word_tags        "
   ]
  },
  {
   "cell_type": "code",
   "execution_count": 99,
   "metadata": {
    "collapsed": false
   },
   "outputs": [],
   "source": [
    "fam_corpus = CorpusReader('../data/', r'familjeliv-sex25.xml')\n",
    "fam_tagged_words = fam_corpus.tagged_words()[:10]"
   ]
  },
  {
   "cell_type": "code",
   "execution_count": 100,
   "metadata": {
    "collapsed": false
   },
   "outputs": [
    {
     "data": {
      "text/plain": [
       "[('Ofta', 'AB'),\n",
       " ('hoppar', 'VB'),\n",
       " ('jag', 'PN'),\n",
       " ('bara', 'AB'),\n",
       " ('iväg', 'PL'),\n",
       " ('till', 'PP'),\n",
       " ('toan', 'NN'),\n",
       " ('och', 'KN'),\n",
       " ('torkar', 'VB'),\n",
       " ('mig', 'PN')]"
      ]
     },
     "execution_count": 100,
     "metadata": {},
     "output_type": "execute_result"
    }
   ],
   "source": [
    "fam_tagged_words"
   ]
  },
  {
   "cell_type": "code",
   "execution_count": 135,
   "metadata": {
    "collapsed": false
   },
   "outputs": [
    {
     "name": "stdout",
     "output_type": "stream",
     "text": [
      "lemmatizing\n"
     ]
    }
   ],
   "source": [
    "fam_corpus = CorpusReader('../data/', r'familjeliv-sex25.xml')\n",
    "fam_tagged_lemmas = fam_corpus.tagged_words(lemmatize=True)[:50]"
   ]
  },
  {
   "cell_type": "code",
   "execution_count": 136,
   "metadata": {
    "collapsed": false
   },
   "outputs": [
    {
     "data": {
      "text/plain": [
       "[('Ofta', 'AB', 'ofta'),\n",
       " ('hoppar', 'VB', 'hoppa'),\n",
       " ('jag', 'PN', 'jag'),\n",
       " ('bara', 'AB', 'bara'),\n",
       " ('iväg', 'PL', 'iväg'),\n",
       " ('till', 'PP', 'till'),\n",
       " ('toan', 'NN', 'toa'),\n",
       " ('och', 'KN', 'och'),\n",
       " ('torkar', 'VB', 'torka'),\n",
       " ('mig', 'PN', 'jag'),\n",
       " ('och', 'KN', 'och'),\n",
       " ('kissar', 'NN', 'kisse'),\n",
       " ('.', 'MAD', ''),\n",
       " ('mår', 'VB', 'må'),\n",
       " ('verkligen', 'AB', 'verkligen'),\n",
       " ('kroppen', 'NN', 'kropp'),\n",
       " ('bra', 'JJ', 'bra'),\n",
       " ('av', 'PP', 'av'),\n",
       " ('att', 'IE', 'att'),\n",
       " ('få', 'VB', 'få'),\n",
       " ('kiss', 'NN', 'kiss'),\n",
       " ('i', 'PP', 'i'),\n",
       " ('fel', 'JJ', 'fel'),\n",
       " ('hål', 'NN', 'hål'),\n",
       " ('så', 'AB', 'så'),\n",
       " ('att', 'IE', 'att'),\n",
       " ('säjja', 'VB', ''),\n",
       " ('...', 'MAD', ''),\n",
       " ('?', 'MAD', ''),\n",
       " ('?', 'MAD', ''),\n",
       " ('Så', 'AB', 'såså länge'),\n",
       " ('länge', 'AB', 'längeså länge:01'),\n",
       " ('man', 'PN', 'man'),\n",
       " ('inte', 'AB', 'inte'),\n",
       " ('gör', 'VB', 'göra'),\n",
       " ('nåt', 'PN', 'någon'),\n",
       " ('som', 'HP', ''),\n",
       " ('skadar', 'VB', 'skada'),\n",
       " ('nån', 'DT', 'någon'),\n",
       " ('annan', 'JJ', 'annan'),\n",
       " (',', 'MID', ''),\n",
       " ('är', 'VB', 'vara'),\n",
       " ('väl', 'AB', 'väl'),\n",
       " ('allt', 'AB', 'allt'),\n",
       " ('okej', 'IN', ''),\n",
       " ('?', 'MAD', ''),\n",
       " ('Dit', 'AB', 'dit'),\n",
       " ('hade', 'VB', 'ha'),\n",
       " ('vi', 'PN', 'vi'),\n",
       " ('aldrig', 'AB', 'aldrig')]"
      ]
     },
     "execution_count": 136,
     "metadata": {},
     "output_type": "execute_result"
    }
   ],
   "source": [
    "fam_tagged_lemmas"
   ]
  },
  {
   "cell_type": "code",
   "execution_count": 92,
   "metadata": {
    "collapsed": false
   },
   "outputs": [],
   "source": [
    "fam_corpus = CorpusReader('../data/', r'familjeliv-sex25.xml')\n",
    "fam_sents = fam_corpus.sentences(raw=True)[:2]"
   ]
  },
  {
   "cell_type": "code",
   "execution_count": 93,
   "metadata": {
    "collapsed": false
   },
   "outputs": [
    {
     "data": {
      "text/plain": [
       "[['Ofta',\n",
       "  'hoppar',\n",
       "  'jag',\n",
       "  'bara',\n",
       "  'iväg',\n",
       "  'till',\n",
       "  'toan',\n",
       "  'och',\n",
       "  'torkar',\n",
       "  'mig',\n",
       "  'och',\n",
       "  'kissar',\n",
       "  '.'],\n",
       " ['mår',\n",
       "  'verkligen',\n",
       "  'kroppen',\n",
       "  'bra',\n",
       "  'av',\n",
       "  'att',\n",
       "  'få',\n",
       "  'kiss',\n",
       "  'i',\n",
       "  'fel',\n",
       "  'hål',\n",
       "  'så',\n",
       "  'att',\n",
       "  'säjja',\n",
       "  '...',\n",
       "  '?',\n",
       "  '?']]"
      ]
     },
     "execution_count": 93,
     "metadata": {},
     "output_type": "execute_result"
    }
   ],
   "source": [
    "fam_sents"
   ]
  },
  {
   "cell_type": "code",
   "execution_count": 69,
   "metadata": {
    "collapsed": false
   },
   "outputs": [
    {
     "name": "stdout",
     "output_type": "stream",
     "text": [
      "['Ofta', 'hoppar', 'jag', 'bara', 'iväg', 'till', 'toan', 'och', 'torkar', 'mig', 'och', 'kissar', '.']\n",
      "['mår', 'verkligen', 'kroppen', 'bra', 'av', 'att', 'få', 'kiss', 'i', 'fel', 'hål', 'så', 'att', 'säjja', '...', '?', '?']\n",
      "['Så', 'länge', 'man', 'inte', 'gör', 'nåt', 'som', 'skadar', 'nån', 'annan', ',', 'är', 'väl', 'allt', 'okej', '?']\n",
      "['Dit', 'hade', 'vi', 'aldrig', 'nått', 'om', 'jag', 'hade', 'varit', 'tyst', 'och', 'gillat', 'läget', 'när', 'jag', 'inte', 'gillade', 'läget', '.']\n",
      "['Första', 'och', 'tredje', 'gången', 'hade', 'jag', 'linne', 'och', 'mjukisbyxor', 'på', 'mig', '..']\n"
     ]
    }
   ],
   "source": [
    "for sent in fam_sents:\n",
    "    sent_list = list()\n",
    "    for word in sent:\n",
    "        sent_list.append(word.text)\n",
    "    print(sent_list)"
   ]
  },
  {
   "cell_type": "markdown",
   "metadata": {},
   "source": [
    "## Create Trigrams with NLTK.util.ngrams\n",
    "Something to note here is that periods are included in the ngrams, it would be nice to remove them. The ngrams function returns an iterator, so we put it in a list() to get at the actual ngrams."
   ]
  },
  {
   "cell_type": "code",
   "execution_count": 7,
   "metadata": {
    "collapsed": false
   },
   "outputs": [
    {
     "data": {
      "text/plain": [
       "[('Ofta', 'hoppar', 'jag'),\n",
       " ('hoppar', 'jag', 'bara'),\n",
       " ('jag', 'bara', 'iväg'),\n",
       " ('bara', 'iväg', 'till'),\n",
       " ('iväg', 'till', 'toan'),\n",
       " ('till', 'toan', 'och'),\n",
       " ('toan', 'och', 'torkar'),\n",
       " ('och', 'torkar', 'mig'),\n",
       " ('torkar', 'mig', 'och'),\n",
       " ('mig', 'och', 'kissar'),\n",
       " ('och', 'kissar', '.'),\n",
       " ('kissar', '.', 'mår'),\n",
       " ('.', 'mår', 'verkligen'),\n",
       " ('mår', 'verkligen', 'kroppen'),\n",
       " ('verkligen', 'kroppen', 'bra'),\n",
       " ('kroppen', 'bra', 'av'),\n",
       " ('bra', 'av', 'att'),\n",
       " ('av', 'att', 'få'),\n",
       " ('att', 'få', 'kiss'),\n",
       " ('få', 'kiss', 'i'),\n",
       " ('kiss', 'i', 'fel'),\n",
       " ('i', 'fel', 'hål'),\n",
       " ('fel', 'hål', 'så')]"
      ]
     },
     "execution_count": 7,
     "metadata": {},
     "output_type": "execute_result"
    }
   ],
   "source": [
    "from nltk.util import ngrams\n",
    "ng = list(ngrams(fam_words[:25], 3))\n",
    "ng"
   ]
  }
 ],
 "metadata": {
  "anaconda-cloud": {},
  "kernelspec": {
   "display_name": "Python [default]",
   "language": "python",
   "name": "python3"
  },
  "language_info": {
   "codemirror_mode": {
    "name": "ipython",
    "version": 3
   },
   "file_extension": ".py",
   "mimetype": "text/x-python",
   "name": "python",
   "nbconvert_exporter": "python",
   "pygments_lexer": "ipython3",
   "version": "3.5.2"
  }
 },
 "nbformat": 4,
 "nbformat_minor": 1
}
