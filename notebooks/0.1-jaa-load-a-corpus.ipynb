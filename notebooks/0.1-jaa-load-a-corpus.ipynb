{
 "cells": [
  {
   "cell_type": "markdown",
   "metadata": {},
   "source": [
    "## Try to Load a Corpus with NLTK\n",
    "\n",
    "NLTK has a CorpusReader for XML documents, but it seems fairly limited as it only stores the words.\n",
    "It is possible to retrieve the tags of interest like 'sentences' via a CorpusView. For now I'll just use the built in word() method and try to build a ngram distribution with that."
   ]
  },
  {
   "cell_type": "code",
   "execution_count": 1,
   "metadata": {
    "collapsed": true
   },
   "outputs": [],
   "source": [
    "from nltk.corpus.reader.xmldocs import XMLCorpusView\n",
    "from nltk.corpus.reader.xmldocs import XMLCorpusReader"
   ]
  },
  {
   "cell_type": "code",
   "execution_count": 2,
   "metadata": {
    "collapsed": true
   },
   "outputs": [],
   "source": [
    "class CorpusReader(XMLCorpusReader):\n",
    "    def __init__(self, root, fileid):\n",
    "        XMLCorpusReader.__init__(self, root, fileid)\n",
    "        \n",
    "    def sentences(self, fileid):\n",
    "        '''This does nothing at the moment, but it would be nice to be able to return the sentences\n",
    "        '''\n",
    "        return XMLCorpusView(fileid, 'sentences')        "
   ]
  },
  {
   "cell_type": "code",
   "execution_count": 3,
   "metadata": {
    "collapsed": false
   },
   "outputs": [],
   "source": [
    "fam_corpus = CorpusReader('../data/', r'familjeliv-sex25.xml')\n",
    "fam_words = fam_corpus.words()"
   ]
  },
  {
   "cell_type": "markdown",
   "metadata": {},
   "source": [
    "## Create Trigrams with NLTK.util.ngrams\n",
    "Something to note here is that periods are included in the ngrams, it would be nice to remove them."
   ]
  },
  {
   "cell_type": "code",
   "execution_count": 7,
   "metadata": {
    "collapsed": false
   },
   "outputs": [
    {
     "data": {
      "text/plain": [
       "[('Ofta', 'hoppar', 'jag'),\n",
       " ('hoppar', 'jag', 'bara'),\n",
       " ('jag', 'bara', 'iväg'),\n",
       " ('bara', 'iväg', 'till'),\n",
       " ('iväg', 'till', 'toan'),\n",
       " ('till', 'toan', 'och'),\n",
       " ('toan', 'och', 'torkar'),\n",
       " ('och', 'torkar', 'mig'),\n",
       " ('torkar', 'mig', 'och'),\n",
       " ('mig', 'och', 'kissar'),\n",
       " ('och', 'kissar', '.'),\n",
       " ('kissar', '.', 'mår'),\n",
       " ('.', 'mår', 'verkligen'),\n",
       " ('mår', 'verkligen', 'kroppen'),\n",
       " ('verkligen', 'kroppen', 'bra'),\n",
       " ('kroppen', 'bra', 'av'),\n",
       " ('bra', 'av', 'att'),\n",
       " ('av', 'att', 'få'),\n",
       " ('att', 'få', 'kiss'),\n",
       " ('få', 'kiss', 'i'),\n",
       " ('kiss', 'i', 'fel'),\n",
       " ('i', 'fel', 'hål'),\n",
       " ('fel', 'hål', 'så')]"
      ]
     },
     "execution_count": 7,
     "metadata": {},
     "output_type": "execute_result"
    }
   ],
   "source": [
    "from nltk.util import ngrams\n",
    "ng = list(ngrams(fam_words[:25], 3))\n",
    "ng"
   ]
  }
 ],
 "metadata": {
  "anaconda-cloud": {},
  "kernelspec": {
   "display_name": "Python [default]",
   "language": "python",
   "name": "python3"
  },
  "language_info": {
   "codemirror_mode": {
    "name": "ipython",
    "version": 3
   },
   "file_extension": ".py",
   "mimetype": "text/x-python",
   "name": "python",
   "nbconvert_exporter": "python",
   "pygments_lexer": "ipython3",
   "version": "3.5.2"
  }
 },
 "nbformat": 4,
 "nbformat_minor": 1
}
